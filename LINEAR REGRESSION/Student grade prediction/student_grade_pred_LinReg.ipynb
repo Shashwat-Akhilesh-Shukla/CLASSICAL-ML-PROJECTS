{
  "nbformat": 4,
  "nbformat_minor": 0,
  "metadata": {
    "colab": {
      "provenance": []
    },
    "kernelspec": {
      "name": "python3",
      "display_name": "Python 3"
    },
    "language_info": {
      "name": "python"
    }
  },
  "cells": [
    {
      "cell_type": "code",
      "execution_count": null,
      "metadata": {
        "id": "hv5hceOH7yB1"
      },
      "outputs": [],
      "source": [
        "import numpy as np\n",
        "import pandas as pd\n",
        "import matplotlib.pyplot as plt\n",
        "from sklearn.model_selection import train_test_split\n",
        "from sklearn.linear_model import LinearRegression\n",
        "from sklearn.metrics import mean_squared_error"
      ]
    },
    {
      "cell_type": "code",
      "source": [
        "data = pd.read_csv('/content/drive/MyDrive/ML AND DL/Datasets/student-mat.csv')\n",
        "data_enc = pd.get_dummies(data,drop_first=True)"
      ],
      "metadata": {
        "id": "5-QWv-yc3Uux"
      },
      "execution_count": null,
      "outputs": []
    },
    {
      "cell_type": "code",
      "source": [
        "print(data_enc.describe())\n",
        "print(data_enc.isnull().sum())"
      ],
      "metadata": {
        "colab": {
          "base_uri": "https://localhost:8080/"
        },
        "id": "CVz9IJae4XrV",
        "outputId": "3f26a6fc-c0f4-478d-f188-ec33d541f430"
      },
      "execution_count": null,
      "outputs": [
        {
          "output_type": "stream",
          "name": "stdout",
          "text": [
            "              age        Medu        Fedu  traveltime   studytime    failures  \\\n",
            "count  395.000000  395.000000  395.000000  395.000000  395.000000  395.000000   \n",
            "mean    16.696203    2.749367    2.521519    1.448101    2.035443    0.334177   \n",
            "std      1.276043    1.094735    1.088201    0.697505    0.839240    0.743651   \n",
            "min     15.000000    0.000000    0.000000    1.000000    1.000000    0.000000   \n",
            "25%     16.000000    2.000000    2.000000    1.000000    1.000000    0.000000   \n",
            "50%     17.000000    3.000000    2.000000    1.000000    2.000000    0.000000   \n",
            "75%     18.000000    4.000000    3.000000    2.000000    2.000000    0.000000   \n",
            "max     22.000000    4.000000    4.000000    4.000000    4.000000    3.000000   \n",
            "\n",
            "           famrel    freetime       goout        Dalc  ...  guardian_mother  \\\n",
            "count  395.000000  395.000000  395.000000  395.000000  ...       395.000000   \n",
            "mean     3.944304    3.235443    3.108861    1.481013  ...         0.691139   \n",
            "std      0.896659    0.998862    1.113278    0.890741  ...         0.462610   \n",
            "min      1.000000    1.000000    1.000000    1.000000  ...         0.000000   \n",
            "25%      4.000000    3.000000    2.000000    1.000000  ...         0.000000   \n",
            "50%      4.000000    3.000000    3.000000    1.000000  ...         1.000000   \n",
            "75%      5.000000    4.000000    4.000000    2.000000  ...         1.000000   \n",
            "max      5.000000    5.000000    5.000000    5.000000  ...         1.000000   \n",
            "\n",
            "       guardian_other  schoolsup_yes  famsup_yes    paid_yes  activities_yes  \\\n",
            "count      395.000000     395.000000  395.000000  395.000000      395.000000   \n",
            "mean         0.081013       0.129114    0.612658    0.458228        0.508861   \n",
            "std          0.273201       0.335751    0.487761    0.498884        0.500555   \n",
            "min          0.000000       0.000000    0.000000    0.000000        0.000000   \n",
            "25%          0.000000       0.000000    0.000000    0.000000        0.000000   \n",
            "50%          0.000000       0.000000    1.000000    0.000000        1.000000   \n",
            "75%          0.000000       0.000000    1.000000    1.000000        1.000000   \n",
            "max          1.000000       1.000000    1.000000    1.000000        1.000000   \n",
            "\n",
            "       nursery_yes  higher_yes  internet_yes  romantic_yes  \n",
            "count   395.000000  395.000000    395.000000    395.000000  \n",
            "mean      0.794937    0.949367      0.832911      0.334177  \n",
            "std       0.404260    0.219525      0.373528      0.472300  \n",
            "min       0.000000    0.000000      0.000000      0.000000  \n",
            "25%       1.000000    1.000000      1.000000      0.000000  \n",
            "50%       1.000000    1.000000      1.000000      0.000000  \n",
            "75%       1.000000    1.000000      1.000000      1.000000  \n",
            "max       1.000000    1.000000      1.000000      1.000000  \n",
            "\n",
            "[8 rows x 42 columns]\n",
            "age                  0\n",
            "Medu                 0\n",
            "Fedu                 0\n",
            "traveltime           0\n",
            "studytime            0\n",
            "failures             0\n",
            "famrel               0\n",
            "freetime             0\n",
            "goout                0\n",
            "Dalc                 0\n",
            "Walc                 0\n",
            "health               0\n",
            "absences             0\n",
            "G1                   0\n",
            "G2                   0\n",
            "G3                   0\n",
            "school_MS            0\n",
            "sex_M                0\n",
            "address_U            0\n",
            "famsize_LE3          0\n",
            "Pstatus_T            0\n",
            "Mjob_health          0\n",
            "Mjob_other           0\n",
            "Mjob_services        0\n",
            "Mjob_teacher         0\n",
            "Fjob_health          0\n",
            "Fjob_other           0\n",
            "Fjob_services        0\n",
            "Fjob_teacher         0\n",
            "reason_home          0\n",
            "reason_other         0\n",
            "reason_reputation    0\n",
            "guardian_mother      0\n",
            "guardian_other       0\n",
            "schoolsup_yes        0\n",
            "famsup_yes           0\n",
            "paid_yes             0\n",
            "activities_yes       0\n",
            "nursery_yes          0\n",
            "higher_yes           0\n",
            "internet_yes         0\n",
            "romantic_yes         0\n",
            "dtype: int64\n"
          ]
        }
      ]
    },
    {
      "cell_type": "code",
      "source": [
        "X = data_enc.drop('G3',axis=1)\n",
        "y = data_enc['G3']\n",
        "\n",
        "X_train, X_test, y_train, y_test = train_test_split(X,y, test_size = 0.2, random_state = 42)"
      ],
      "metadata": {
        "id": "jJePm4WK4pif"
      },
      "execution_count": null,
      "outputs": []
    },
    {
      "cell_type": "code",
      "source": [
        " model = LinearRegression()\n",
        "model.fit(X_train,y_train)"
      ],
      "metadata": {
        "colab": {
          "base_uri": "https://localhost:8080/",
          "height": 74
        },
        "id": "rEUeuvjw6GIZ",
        "outputId": "2ab4ff56-5079-4b7c-9023-e3d8609f061f"
      },
      "execution_count": null,
      "outputs": [
        {
          "output_type": "execute_result",
          "data": {
            "text/plain": [
              "LinearRegression()"
            ],
            "text/html": [
              "<style>#sk-container-id-2 {color: black;background-color: white;}#sk-container-id-2 pre{padding: 0;}#sk-container-id-2 div.sk-toggleable {background-color: white;}#sk-container-id-2 label.sk-toggleable__label {cursor: pointer;display: block;width: 100%;margin-bottom: 0;padding: 0.3em;box-sizing: border-box;text-align: center;}#sk-container-id-2 label.sk-toggleable__label-arrow:before {content: \"▸\";float: left;margin-right: 0.25em;color: #696969;}#sk-container-id-2 label.sk-toggleable__label-arrow:hover:before {color: black;}#sk-container-id-2 div.sk-estimator:hover label.sk-toggleable__label-arrow:before {color: black;}#sk-container-id-2 div.sk-toggleable__content {max-height: 0;max-width: 0;overflow: hidden;text-align: left;background-color: #f0f8ff;}#sk-container-id-2 div.sk-toggleable__content pre {margin: 0.2em;color: black;border-radius: 0.25em;background-color: #f0f8ff;}#sk-container-id-2 input.sk-toggleable__control:checked~div.sk-toggleable__content {max-height: 200px;max-width: 100%;overflow: auto;}#sk-container-id-2 input.sk-toggleable__control:checked~label.sk-toggleable__label-arrow:before {content: \"▾\";}#sk-container-id-2 div.sk-estimator input.sk-toggleable__control:checked~label.sk-toggleable__label {background-color: #d4ebff;}#sk-container-id-2 div.sk-label input.sk-toggleable__control:checked~label.sk-toggleable__label {background-color: #d4ebff;}#sk-container-id-2 input.sk-hidden--visually {border: 0;clip: rect(1px 1px 1px 1px);clip: rect(1px, 1px, 1px, 1px);height: 1px;margin: -1px;overflow: hidden;padding: 0;position: absolute;width: 1px;}#sk-container-id-2 div.sk-estimator {font-family: monospace;background-color: #f0f8ff;border: 1px dotted black;border-radius: 0.25em;box-sizing: border-box;margin-bottom: 0.5em;}#sk-container-id-2 div.sk-estimator:hover {background-color: #d4ebff;}#sk-container-id-2 div.sk-parallel-item::after {content: \"\";width: 100%;border-bottom: 1px solid gray;flex-grow: 1;}#sk-container-id-2 div.sk-label:hover label.sk-toggleable__label {background-color: #d4ebff;}#sk-container-id-2 div.sk-serial::before {content: \"\";position: absolute;border-left: 1px solid gray;box-sizing: border-box;top: 0;bottom: 0;left: 50%;z-index: 0;}#sk-container-id-2 div.sk-serial {display: flex;flex-direction: column;align-items: center;background-color: white;padding-right: 0.2em;padding-left: 0.2em;position: relative;}#sk-container-id-2 div.sk-item {position: relative;z-index: 1;}#sk-container-id-2 div.sk-parallel {display: flex;align-items: stretch;justify-content: center;background-color: white;position: relative;}#sk-container-id-2 div.sk-item::before, #sk-container-id-2 div.sk-parallel-item::before {content: \"\";position: absolute;border-left: 1px solid gray;box-sizing: border-box;top: 0;bottom: 0;left: 50%;z-index: -1;}#sk-container-id-2 div.sk-parallel-item {display: flex;flex-direction: column;z-index: 1;position: relative;background-color: white;}#sk-container-id-2 div.sk-parallel-item:first-child::after {align-self: flex-end;width: 50%;}#sk-container-id-2 div.sk-parallel-item:last-child::after {align-self: flex-start;width: 50%;}#sk-container-id-2 div.sk-parallel-item:only-child::after {width: 0;}#sk-container-id-2 div.sk-dashed-wrapped {border: 1px dashed gray;margin: 0 0.4em 0.5em 0.4em;box-sizing: border-box;padding-bottom: 0.4em;background-color: white;}#sk-container-id-2 div.sk-label label {font-family: monospace;font-weight: bold;display: inline-block;line-height: 1.2em;}#sk-container-id-2 div.sk-label-container {text-align: center;}#sk-container-id-2 div.sk-container {/* jupyter's `normalize.less` sets `[hidden] { display: none; }` but bootstrap.min.css set `[hidden] { display: none !important; }` so we also need the `!important` here to be able to override the default hidden behavior on the sphinx rendered scikit-learn.org. See: https://github.com/scikit-learn/scikit-learn/issues/21755 */display: inline-block !important;position: relative;}#sk-container-id-2 div.sk-text-repr-fallback {display: none;}</style><div id=\"sk-container-id-2\" class=\"sk-top-container\"><div class=\"sk-text-repr-fallback\"><pre>LinearRegression()</pre><b>In a Jupyter environment, please rerun this cell to show the HTML representation or trust the notebook. <br />On GitHub, the HTML representation is unable to render, please try loading this page with nbviewer.org.</b></div><div class=\"sk-container\" hidden><div class=\"sk-item\"><div class=\"sk-estimator sk-toggleable\"><input class=\"sk-toggleable__control sk-hidden--visually\" id=\"sk-estimator-id-2\" type=\"checkbox\" checked><label for=\"sk-estimator-id-2\" class=\"sk-toggleable__label sk-toggleable__label-arrow\">LinearRegression</label><div class=\"sk-toggleable__content\"><pre>LinearRegression()</pre></div></div></div></div></div>"
            ]
          },
          "metadata": {},
          "execution_count": 25
        }
      ]
    },
    {
      "cell_type": "code",
      "source": [
        "print(X_train.shape,y_train.shape, X_test.shape,y_test.shape)"
      ],
      "metadata": {
        "colab": {
          "base_uri": "https://localhost:8080/"
        },
        "id": "BWZSZ-p56Ufp",
        "outputId": "24b97801-9ac6-4796-adb8-57abe9b3bc2a"
      },
      "execution_count": null,
      "outputs": [
        {
          "output_type": "stream",
          "name": "stdout",
          "text": [
            "(316, 41) (316,) (79, 41) (79,)\n"
          ]
        }
      ]
    },
    {
      "cell_type": "code",
      "source": [
        "y_pred = model.predict(X_test)\n",
        "\n",
        "mse = mean_squared_error(y_test,y_pred)\n",
        "print(f'mean squared error:{mse}')\n",
        "\n",
        "plt.scatter(X_test['studytime'],y_test,color='black',label='actual grades')\n",
        "plt.scatter(X_test['studytime'],y_pred,color='red',label='predicted grades')\n",
        "plt.xlabel('studytime')\n",
        "plt.ylabel('Grade')\n",
        "plt.legend()\n",
        "plt.show()"
      ],
      "metadata": {
        "colab": {
          "base_uri": "https://localhost:8080/",
          "height": 466
        },
        "id": "5Z3fACqJ_0GT",
        "outputId": "eec4c51f-2f9b-4ae2-9505-032a8789e1f2"
      },
      "execution_count": null,
      "outputs": [
        {
          "output_type": "stream",
          "name": "stdout",
          "text": [
            "mean squared error:5.656642833231222\n"
          ]
        },
        {
          "output_type": "display_data",
          "data": {
            "text/plain": [
              "<Figure size 640x480 with 1 Axes>"
            ],
            "image/png": "[encoded data removed]"
          },
          "metadata": {}
        }
      ]
    },
    {
      "cell_type": "code",
      "source": [],
      "metadata": {
        "id": "xkN9_7EHDT9R"
      },
      "execution_count": null,
      "outputs": []
    }
  ]
}