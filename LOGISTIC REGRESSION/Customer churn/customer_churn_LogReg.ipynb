{
  "nbformat": 4,
  "nbformat_minor": 0,
  "metadata": {
    "colab": {
      "provenance": []
    },
    "kernelspec": {
      "name": "python3",
      "display_name": "Python 3"
    },
    "language_info": {
      "name": "python"
    }
  },
  "cells": [
    {
      "cell_type": "code",
      "execution_count": null,
      "metadata": {
        "id": "e6uGXOkd1b1l"
      },
      "outputs": [],
      "source": [
        "import numpy as np\n",
        "import pandas as pd\n",
        "from sklearn.model_selection import train_test_split,cross_val_score\n",
        "from sklearn.feature_extraction.text import CountVectorizer\n",
        "from sklearn.linear_model import LogisticRegression\n",
        "from sklearn.metrics import accuracy_score,classification_report,confusion_matrix\n",
        "from sklearn.preprocessing import LabelEncoder"
      ]
    },
    {
      "cell_type": "code",
      "source": [
        "data = pd.read_csv('/content/drive/MyDrive/ML AND DL/Datasets/WA_Fn-UseC_-Telco-Customer-Churn.csv')\n",
        "enc = pd.get_dummies(data, columns=['gender', 'Partner', 'PhoneService', 'MultipleLines', 'InternetService', 'OnlineSecurity', 'OnlineBackup', 'DeviceProtection', 'TechSupport', 'StreamingTV', 'StreamingMovies', 'Contract', 'PaperlessBilling', 'PaymentMethod', 'Churn'])\n"
      ],
      "metadata": {
        "id": "Ufg24V3S3GGG"
      },
      "execution_count": null,
      "outputs": []
    },
    {
      "cell_type": "code",
      "source": [
        "stringcol = enc.select_dtypes(include=['object']).columns.tolist()\n",
        "print(\"column with string:\",stringcol)"
      ],
      "metadata": {
        "colab": {
          "base_uri": "https://localhost:8080/"
        },
        "id": "sYUUVp_EFprs",
        "outputId": "a9fdfcc1-2483-463f-8f67-62735446d387"
      },
      "execution_count": null,
      "outputs": [
        {
          "output_type": "stream",
          "name": "stdout",
          "text": [
            "column with string: ['customerID', 'Dependents', 'TotalCharges']\n"
          ]
        }
      ]
    },
    {
      "cell_type": "code",
      "source": [
        "enc = enc.drop(columns=stringcol)"
      ],
      "metadata": {
        "id": "VDTBzhujFqwK"
      },
      "execution_count": null,
      "outputs": []
    },
    {
      "cell_type": "code",
      "source": [
        "print(enc.describe())\n",
        "print(enc.isnull().sum())"
      ],
      "metadata": {
        "colab": {
          "base_uri": "https://localhost:8080/"
        },
        "id": "ZMe0QirS3OCv",
        "outputId": "5302a394-5f72-47b9-9cd8-6adbd10fe382"
      },
      "execution_count": null,
      "outputs": [
        {
          "output_type": "stream",
          "name": "stdout",
          "text": [
            "       SeniorCitizen       tenure  MonthlyCharges  gender_Female  gender_Male  \\\n",
            "count    7043.000000  7043.000000     7043.000000    7043.000000  7043.000000   \n",
            "mean        0.162147    32.371149       64.761692       0.495244     0.504756   \n",
            "std         0.368612    24.559481       30.090047       0.500013     0.500013   \n",
            "min         0.000000     0.000000       18.250000       0.000000     0.000000   \n",
            "25%         0.000000     9.000000       35.500000       0.000000     0.000000   \n",
            "50%         0.000000    29.000000       70.350000       0.000000     1.000000   \n",
            "75%         0.000000    55.000000       89.850000       1.000000     1.000000   \n",
            "max         1.000000    72.000000      118.750000       1.000000     1.000000   \n",
            "\n",
            "        Partner_No  Partner_Yes  PhoneService_No  PhoneService_Yes  \\\n",
            "count  7043.000000  7043.000000      7043.000000       7043.000000   \n",
            "mean      0.516967     0.483033         0.096834          0.903166   \n",
            "std       0.499748     0.499748         0.295752          0.295752   \n",
            "min       0.000000     0.000000         0.000000          0.000000   \n",
            "25%       0.000000     0.000000         0.000000          1.000000   \n",
            "50%       1.000000     0.000000         0.000000          1.000000   \n",
            "75%       1.000000     1.000000         0.000000          1.000000   \n",
            "max       1.000000     1.000000         1.000000          1.000000   \n",
            "\n",
            "       MultipleLines_No  ...  Contract_One year  Contract_Two year  \\\n",
            "count       7043.000000  ...        7043.000000        7043.000000   \n",
            "mean           0.481329  ...           0.209144           0.240664   \n",
            "std            0.499687  ...           0.406726           0.427517   \n",
            "min            0.000000  ...           0.000000           0.000000   \n",
            "25%            0.000000  ...           0.000000           0.000000   \n",
            "50%            0.000000  ...           0.000000           0.000000   \n",
            "75%            1.000000  ...           0.000000           0.000000   \n",
            "max            1.000000  ...           1.000000           1.000000   \n",
            "\n",
            "       PaperlessBilling_No  PaperlessBilling_Yes  \\\n",
            "count          7043.000000           7043.000000   \n",
            "mean              0.407781              0.592219   \n",
            "std               0.491457              0.491457   \n",
            "min               0.000000              0.000000   \n",
            "25%               0.000000              0.000000   \n",
            "50%               0.000000              1.000000   \n",
            "75%               1.000000              1.000000   \n",
            "max               1.000000              1.000000   \n",
            "\n",
            "       PaymentMethod_Bank transfer (automatic)  \\\n",
            "count                              7043.000000   \n",
            "mean                                  0.219225   \n",
            "std                                   0.413751   \n",
            "min                                   0.000000   \n",
            "25%                                   0.000000   \n",
            "50%                                   0.000000   \n",
            "75%                                   0.000000   \n",
            "max                                   1.000000   \n",
            "\n",
            "       PaymentMethod_Credit card (automatic)  PaymentMethod_Electronic check  \\\n",
            "count                            7043.000000                     7043.000000   \n",
            "mean                                0.216101                        0.335794   \n",
            "std                                 0.411613                        0.472301   \n",
            "min                                 0.000000                        0.000000   \n",
            "25%                                 0.000000                        0.000000   \n",
            "50%                                 0.000000                        0.000000   \n",
            "75%                                 0.000000                        1.000000   \n",
            "max                                 1.000000                        1.000000   \n",
            "\n",
            "       PaymentMethod_Mailed check     Churn_No    Churn_Yes  \n",
            "count                 7043.000000  7043.000000  7043.000000  \n",
            "mean                     0.228880     0.734630     0.265370  \n",
            "std                      0.420141     0.441561     0.441561  \n",
            "min                      0.000000     0.000000     0.000000  \n",
            "25%                      0.000000     0.000000     0.000000  \n",
            "50%                      0.000000     1.000000     0.000000  \n",
            "75%                      0.000000     1.000000     1.000000  \n",
            "max                      1.000000     1.000000     1.000000  \n",
            "\n",
            "[8 rows x 44 columns]\n",
            "SeniorCitizen                              0\n",
            "tenure                                     0\n",
            "MonthlyCharges                             0\n",
            "gender_Female                              0\n",
            "gender_Male                                0\n",
            "Partner_No                                 0\n",
            "Partner_Yes                                0\n",
            "PhoneService_No                            0\n",
            "PhoneService_Yes                           0\n",
            "MultipleLines_No                           0\n",
            "MultipleLines_No phone service             0\n",
            "MultipleLines_Yes                          0\n",
            "InternetService_DSL                        0\n",
            "InternetService_Fiber optic                0\n",
            "InternetService_No                         0\n",
            "OnlineSecurity_No                          0\n",
            "OnlineSecurity_No internet service         0\n",
            "OnlineSecurity_Yes                         0\n",
            "OnlineBackup_No                            0\n",
            "OnlineBackup_No internet service           0\n",
            "OnlineBackup_Yes                           0\n",
            "DeviceProtection_No                        0\n",
            "DeviceProtection_No internet service       0\n",
            "DeviceProtection_Yes                       0\n",
            "TechSupport_No                             0\n",
            "TechSupport_No internet service            0\n",
            "TechSupport_Yes                            0\n",
            "StreamingTV_No                             0\n",
            "StreamingTV_No internet service            0\n",
            "StreamingTV_Yes                            0\n",
            "StreamingMovies_No                         0\n",
            "StreamingMovies_No internet service        0\n",
            "StreamingMovies_Yes                        0\n",
            "Contract_Month-to-month                    0\n",
            "Contract_One year                          0\n",
            "Contract_Two year                          0\n",
            "PaperlessBilling_No                        0\n",
            "PaperlessBilling_Yes                       0\n",
            "PaymentMethod_Bank transfer (automatic)    0\n",
            "PaymentMethod_Credit card (automatic)      0\n",
            "PaymentMethod_Electronic check             0\n",
            "PaymentMethod_Mailed check                 0\n",
            "Churn_No                                   0\n",
            "Churn_Yes                                  0\n",
            "dtype: int64\n"
          ]
        }
      ]
    },
    {
      "cell_type": "code",
      "source": [
        "X = enc.iloc[:,1:-1]\n",
        "y = enc.iloc[:,-1:]\n",
        "X_train,X_test,y_train,y_test = train_test_split(X,y,test_size=0.2,random_state = 42)"
      ],
      "metadata": {
        "id": "-BPJfjsW300F"
      },
      "execution_count": null,
      "outputs": []
    },
    {
      "cell_type": "code",
      "source": [
        "model = LogisticRegression()\n",
        "model.fit(X_train,y_train)"
      ],
      "metadata": {
        "colab": {
          "base_uri": "https://localhost:8080/",
          "height": 268
        },
        "id": "bKn9mDvu31Cc",
        "outputId": "7adb61c6-7284-4a04-c289-c7aa17f7185c"
      },
      "execution_count": null,
      "outputs": [
        {
          "output_type": "stream",
          "name": "stderr",
          "text": [
            "/usr/local/lib/python3.10/dist-packages/sklearn/utils/validation.py:1143: DataConversionWarning: A column-vector y was passed when a 1d array was expected. Please change the shape of y to (n_samples, ), for example using ravel().\n",
            "  y = column_or_1d(y, warn=True)\n",
            "/usr/local/lib/python3.10/dist-packages/sklearn/linear_model/_logistic.py:458: ConvergenceWarning: lbfgs failed to converge (status=1):\n",
            "STOP: TOTAL NO. of ITERATIONS REACHED LIMIT.\n",
            "\n",
            "Increase the number of iterations (max_iter) or scale the data as shown in:\n",
            "    https://scikit-learn.org/stable/modules/preprocessing.html\n",
            "Please also refer to the documentation for alternative solver options:\n",
            "    https://scikit-learn.org/stable/modules/linear_model.html#logistic-regression\n",
            "  n_iter_i = _check_optimize_result(\n"
          ]
        },
        {
          "output_type": "execute_result",
          "data": {
            "text/plain": [
              "LogisticRegression()"
            ],
            "text/html": [
              "<style>#sk-container-id-1 {color: black;background-color: white;}#sk-container-id-1 pre{padding: 0;}#sk-container-id-1 div.sk-toggleable {background-color: white;}#sk-container-id-1 label.sk-toggleable__label {cursor: pointer;display: block;width: 100%;margin-bottom: 0;padding: 0.3em;box-sizing: border-box;text-align: center;}#sk-container-id-1 label.sk-toggleable__label-arrow:before {content: \"▸\";float: left;margin-right: 0.25em;color: #696969;}#sk-container-id-1 label.sk-toggleable__label-arrow:hover:before {color: black;}#sk-container-id-1 div.sk-estimator:hover label.sk-toggleable__label-arrow:before {color: black;}#sk-container-id-1 div.sk-toggleable__content {max-height: 0;max-width: 0;overflow: hidden;text-align: left;background-color: #f0f8ff;}#sk-container-id-1 div.sk-toggleable__content pre {margin: 0.2em;color: black;border-radius: 0.25em;background-color: #f0f8ff;}#sk-container-id-1 input.sk-toggleable__control:checked~div.sk-toggleable__content {max-height: 200px;max-width: 100%;overflow: auto;}#sk-container-id-1 input.sk-toggleable__control:checked~label.sk-toggleable__label-arrow:before {content: \"▾\";}#sk-container-id-1 div.sk-estimator input.sk-toggleable__control:checked~label.sk-toggleable__label {background-color: #d4ebff;}#sk-container-id-1 div.sk-label input.sk-toggleable__control:checked~label.sk-toggleable__label {background-color: #d4ebff;}#sk-container-id-1 input.sk-hidden--visually {border: 0;clip: rect(1px 1px 1px 1px);clip: rect(1px, 1px, 1px, 1px);height: 1px;margin: -1px;overflow: hidden;padding: 0;position: absolute;width: 1px;}#sk-container-id-1 div.sk-estimator {font-family: monospace;background-color: #f0f8ff;border: 1px dotted black;border-radius: 0.25em;box-sizing: border-box;margin-bottom: 0.5em;}#sk-container-id-1 div.sk-estimator:hover {background-color: #d4ebff;}#sk-container-id-1 div.sk-parallel-item::after {content: \"\";width: 100%;border-bottom: 1px solid gray;flex-grow: 1;}#sk-container-id-1 div.sk-label:hover label.sk-toggleable__label {background-color: #d4ebff;}#sk-container-id-1 div.sk-serial::before {content: \"\";position: absolute;border-left: 1px solid gray;box-sizing: border-box;top: 0;bottom: 0;left: 50%;z-index: 0;}#sk-container-id-1 div.sk-serial {display: flex;flex-direction: column;align-items: center;background-color: white;padding-right: 0.2em;padding-left: 0.2em;position: relative;}#sk-container-id-1 div.sk-item {position: relative;z-index: 1;}#sk-container-id-1 div.sk-parallel {display: flex;align-items: stretch;justify-content: center;background-color: white;position: relative;}#sk-container-id-1 div.sk-item::before, #sk-container-id-1 div.sk-parallel-item::before {content: \"\";position: absolute;border-left: 1px solid gray;box-sizing: border-box;top: 0;bottom: 0;left: 50%;z-index: -1;}#sk-container-id-1 div.sk-parallel-item {display: flex;flex-direction: column;z-index: 1;position: relative;background-color: white;}#sk-container-id-1 div.sk-parallel-item:first-child::after {align-self: flex-end;width: 50%;}#sk-container-id-1 div.sk-parallel-item:last-child::after {align-self: flex-start;width: 50%;}#sk-container-id-1 div.sk-parallel-item:only-child::after {width: 0;}#sk-container-id-1 div.sk-dashed-wrapped {border: 1px dashed gray;margin: 0 0.4em 0.5em 0.4em;box-sizing: border-box;padding-bottom: 0.4em;background-color: white;}#sk-container-id-1 div.sk-label label {font-family: monospace;font-weight: bold;display: inline-block;line-height: 1.2em;}#sk-container-id-1 div.sk-label-container {text-align: center;}#sk-container-id-1 div.sk-container {/* jupyter's `normalize.less` sets `[hidden] { display: none; }` but bootstrap.min.css set `[hidden] { display: none !important; }` so we also need the `!important` here to be able to override the default hidden behavior on the sphinx rendered scikit-learn.org. See: https://github.com/scikit-learn/scikit-learn/issues/21755 */display: inline-block !important;position: relative;}#sk-container-id-1 div.sk-text-repr-fallback {display: none;}</style><div id=\"sk-container-id-1\" class=\"sk-top-container\"><div class=\"sk-text-repr-fallback\"><pre>LogisticRegression()</pre><b>In a Jupyter environment, please rerun this cell to show the HTML representation or trust the notebook. <br />On GitHub, the HTML representation is unable to render, please try loading this page with nbviewer.org.</b></div><div class=\"sk-container\" hidden><div class=\"sk-item\"><div class=\"sk-estimator sk-toggleable\"><input class=\"sk-toggleable__control sk-hidden--visually\" id=\"sk-estimator-id-1\" type=\"checkbox\" checked><label for=\"sk-estimator-id-1\" class=\"sk-toggleable__label sk-toggleable__label-arrow\">LogisticRegression</label><div class=\"sk-toggleable__content\"><pre>LogisticRegression()</pre></div></div></div></div></div>"
            ]
          },
          "metadata": {},
          "execution_count": 37
        }
      ]
    },
    {
      "cell_type": "code",
      "source": [
        " from inspect import classify_class_attrs\n",
        "y_pred = model.predict(X_test)\n",
        "\n",
        "accuracy = accuracy_score(y_test,y_pred)\n",
        "conf_matrix = confusion_matrix(y_test,y_pred)\n",
        "classification_report = classification_report(y_test,y_pred)\n",
        "\n",
        "print(f'accuracy:{accuracy}')\n",
        "print(f'confusion matrix:\\n{conf_matrix}')\n",
        "print(f'classification report:\\n{classification_report}')\n"
      ],
      "metadata": {
        "colab": {
          "base_uri": "https://localhost:8080/"
        },
        "id": "BafRKSby31ic",
        "outputId": "992f0433-81e8-42bf-f0a3-35c79a0ab88e"
      },
      "execution_count": null,
      "outputs": [
        {
          "output_type": "stream",
          "name": "stdout",
          "text": [
            "accuracy:1.0\n",
            "confusion matrix:\n",
            "[[1036    0]\n",
            " [   0  373]]\n",
            "classification report:\n",
            "              precision    recall  f1-score   support\n",
            "\n",
            "           0       1.00      1.00      1.00      1036\n",
            "           1       1.00      1.00      1.00       373\n",
            "\n",
            "    accuracy                           1.00      1409\n",
            "   macro avg       1.00      1.00      1.00      1409\n",
            "weighted avg       1.00      1.00      1.00      1409\n",
            "\n"
          ]
        }
      ]
    },
    {
      "cell_type": "code",
      "source": [],
      "metadata": {
        "id": "Fg--8iXPJrda"
      },
      "execution_count": null,
      "outputs": []
    }
  ]
}